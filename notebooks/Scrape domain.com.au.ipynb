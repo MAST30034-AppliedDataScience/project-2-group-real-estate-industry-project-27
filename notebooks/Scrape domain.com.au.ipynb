{
 "cells": [
  {
   "cell_type": "code",
   "execution_count": 1,
   "metadata": {},
   "outputs": [],
   "source": [
    "import requests\n",
    "import pandas as pd\n",
    "%run ../scripts/'scrape domain.com.py'\n"
   ]
  },
  {
   "cell_type": "code",
   "execution_count": 49,
   "metadata": {},
   "outputs": [],
   "source": [
    "url = \"https://www.domain.com.au/rent/vic/\"\n",
    "properties = []\n",
    "count = 1"
   ]
  },
  {
   "cell_type": "code",
   "execution_count": 50,
   "metadata": {},
   "outputs": [
    {
     "name": "stdout",
     "output_type": "stream",
     "text": [
      "1\n",
      "2\n",
      "3\n",
      "4\n",
      "5\n",
      "6\n",
      "7\n",
      "8\n",
      "9\n",
      "10\n",
      "11\n",
      "12\n",
      "13\n",
      "14\n",
      "15\n",
      "16\n",
      "17\n",
      "18\n",
      "19\n",
      "20\n",
      "21\n",
      "22\n",
      "23\n",
      "24\n",
      "25\n",
      "26\n",
      "27\n",
      "28\n",
      "29\n",
      "30\n",
      "31\n",
      "32\n",
      "33\n",
      "34\n",
      "35\n",
      "36\n",
      "37\n",
      "38\n",
      "39\n",
      "40\n",
      "41\n",
      "42\n",
      "43\n",
      "44\n",
      "45\n",
      "46\n",
      "47\n",
      "48\n",
      "49\n",
      "50\n"
     ]
    }
   ],
   "source": [
    "while url:\n",
    "    print(count)\n",
    "    soup = get_soup(url)\n",
    "    listings = soup.find_all('div', {'class': 'css-qrqvvg'})\n",
    "    for property in listings:\n",
    "        price = get_price(property)\n",
    "        if not price:\n",
    "            continue\n",
    "        suburb, postcode = get_suburb(property)\n",
    "        bedrooms, bathrooms, parkings = get_features(property)\n",
    "        property_type = property.find('span', class_='css-693528').text.strip()\n",
    "\n",
    "        # Store the extracted data in a dictionary\n",
    "        property_data = {\n",
    "            'price (AUD per week)': price,\n",
    "            'bedrooms': bedrooms,\n",
    "            'bathrooms': bathrooms,\n",
    "            'parkings': parkings,\n",
    "            'property type': property_type,\n",
    "            'suburb': suburb,\n",
    "            'postcode': postcode\n",
    "        }\n",
    "\n",
    "        # Append the dictionary to the list of properties\n",
    "        properties.append(property_data)\n",
    "    url = get_next_url(soup)\n",
    "    count += 1"
   ]
  },
  {
   "cell_type": "code",
   "execution_count": 51,
   "metadata": {},
   "outputs": [
    {
     "name": "stdout",
     "output_type": "stream",
     "text": [
      "Data successfully written to properties.csv\n"
     ]
    }
   ],
   "source": [
    "# Convert list of dictionaries to a pandas DataFrame\n",
    "df = pd.DataFrame(properties)\n",
    "\n",
    "# Write the DataFrame to a CSV file\n",
    "df.to_csv('properties.csv', index=False)\n",
    "\n",
    "print('Data successfully written to properties.csv')"
   ]
  },
  {
   "cell_type": "markdown",
   "metadata": {},
   "source": [
    "## Aggregate data"
   ]
  },
  {
   "cell_type": "code",
   "execution_count": 2,
   "metadata": {},
   "outputs": [
    {
     "name": "stdout",
     "output_type": "stream",
     "text": [
      "File saved successfully as 'mean_price_per_postcode.csv'\n"
     ]
    }
   ],
   "source": [
    "property_df = pd.read_csv('../data/landing/properties.csv')\n",
    "mean_price_per_postcode = property_df.groupby('postcode')['price (AUD per week)'].mean()\n",
    "mean_price_df = mean_price_per_postcode.reset_index()\n",
    "# Save the DataFrame to a CSV file\n",
    "mean_price_df.to_csv('../data/mean_price_per_postcode.csv', index=False)\n",
    "\n",
    "print(\"File saved successfully as 'mean_price_per_postcode.csv'\")"
   ]
  }
 ],
 "metadata": {
  "kernelspec": {
   "display_name": "Python 3",
   "language": "python",
   "name": "python3"
  },
  "language_info": {
   "codemirror_mode": {
    "name": "ipython",
    "version": 3
   },
   "file_extension": ".py",
   "mimetype": "text/x-python",
   "name": "python",
   "nbconvert_exporter": "python",
   "pygments_lexer": "ipython3",
   "version": "3.10.12"
  }
 },
 "nbformat": 4,
 "nbformat_minor": 2
}
