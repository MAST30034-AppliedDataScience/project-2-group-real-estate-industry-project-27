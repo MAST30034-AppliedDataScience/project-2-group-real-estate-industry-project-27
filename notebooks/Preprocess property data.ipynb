{
 "cells": [
  {
   "cell_type": "markdown",
   "metadata": {},
   "source": [
    "> # Data preprocessing"
   ]
  },
  {
   "cell_type": "markdown",
   "metadata": {},
   "source": [
    "In this section we will preprocess the landing data scraped from domain.com.au website by handling missing values as well as outliers. The preprocessed data is saved under ..data/raw/preprocessed properties.csv"
   ]
  },
  {
   "cell_type": "markdown",
   "metadata": {},
   "source": [
    "> ### Import libraries and functions"
   ]
  },
  {
   "cell_type": "code",
   "execution_count": 23,
   "metadata": {},
   "outputs": [],
   "source": [
    "import pandas as pd"
   ]
  },
  {
   "cell_type": "markdown",
   "metadata": {},
   "source": [
    "> ### Handling missing values"
   ]
  },
  {
   "cell_type": "code",
   "execution_count": 24,
   "metadata": {},
   "outputs": [],
   "source": [
    "# Get the csv file from scraping domain.com.au\n",
    "property_df = pd.read_csv('../data/landing/properties.csv')"
   ]
  },
  {
   "cell_type": "code",
   "execution_count": 20,
   "metadata": {},
   "outputs": [
    {
     "data": {
      "text/plain": [
       "price (AUD per week)    0\n",
       "bedrooms                9\n",
       "bathrooms               0\n",
       "parkings                0\n",
       "property type           0\n",
       "address                 0\n",
       "suburb                  0\n",
       "postcode                0\n",
       "additional features     0\n",
       "property url            0\n",
       "dtype: int64"
      ]
     },
     "execution_count": 20,
     "metadata": {},
     "output_type": "execute_result"
    }
   ],
   "source": [
    "# Show the number of missing values in each column\n",
    "property_df.isnull().sum()"
   ]
  },
  {
   "cell_type": "markdown",
   "metadata": {},
   "source": [
    "We can see that number of bedrooms is the only column that contain missing values. We will inspect these rows."
   ]
  },
  {
   "cell_type": "code",
   "execution_count": 21,
   "metadata": {},
   "outputs": [
    {
     "data": {
      "text/html": [
       "<div>\n",
       "<style scoped>\n",
       "    .dataframe tbody tr th:only-of-type {\n",
       "        vertical-align: middle;\n",
       "    }\n",
       "\n",
       "    .dataframe tbody tr th {\n",
       "        vertical-align: top;\n",
       "    }\n",
       "\n",
       "    .dataframe thead th {\n",
       "        text-align: right;\n",
       "    }\n",
       "</style>\n",
       "<table border=\"1\" class=\"dataframe\">\n",
       "  <thead>\n",
       "    <tr style=\"text-align: right;\">\n",
       "      <th></th>\n",
       "      <th>price (AUD per week)</th>\n",
       "      <th>bedrooms</th>\n",
       "      <th>bathrooms</th>\n",
       "      <th>parkings</th>\n",
       "      <th>property type</th>\n",
       "      <th>address</th>\n",
       "      <th>suburb</th>\n",
       "      <th>postcode</th>\n",
       "      <th>additional features</th>\n",
       "      <th>property url</th>\n",
       "    </tr>\n",
       "  </thead>\n",
       "  <tbody>\n",
       "    <tr>\n",
       "      <th>142</th>\n",
       "      <td>450.0</td>\n",
       "      <td>NaN</td>\n",
       "      <td>1</td>\n",
       "      <td>0</td>\n",
       "      <td>Studio</td>\n",
       "      <td>1403/325 Collins Street</td>\n",
       "      <td>MELBOURNE</td>\n",
       "      <td>3000</td>\n",
       "      <td>['Furnished']</td>\n",
       "      <td>https://www.domain.com.au/1403-325-collins-str...</td>\n",
       "    </tr>\n",
       "    <tr>\n",
       "      <th>226</th>\n",
       "      <td>230.0</td>\n",
       "      <td>NaN</td>\n",
       "      <td>1</td>\n",
       "      <td>0</td>\n",
       "      <td>Studio</td>\n",
       "      <td>109/32 St Edmonds Road</td>\n",
       "      <td>PRAHRAN</td>\n",
       "      <td>3181</td>\n",
       "      <td>[]</td>\n",
       "      <td>https://www.domain.com.au/109-32-st-edmonds-ro...</td>\n",
       "    </tr>\n",
       "    <tr>\n",
       "      <th>462</th>\n",
       "      <td>615.0</td>\n",
       "      <td>NaN</td>\n",
       "      <td>1</td>\n",
       "      <td>0</td>\n",
       "      <td>Apartment / Unit / Flat</td>\n",
       "      <td>L204/8 Caulfield Boulevard</td>\n",
       "      <td>CAULFIELD NORTH</td>\n",
       "      <td>3161</td>\n",
       "      <td>['Intercom', 'In ground pool', 'Balcony', 'Out...</td>\n",
       "      <td>https://www.domain.com.au/l204-8-caulfield-bou...</td>\n",
       "    </tr>\n",
       "    <tr>\n",
       "      <th>506</th>\n",
       "      <td>75.0</td>\n",
       "      <td>NaN</td>\n",
       "      <td>1</td>\n",
       "      <td>1</td>\n",
       "      <td>Car space</td>\n",
       "      <td>Car Park/228 La Trobe St</td>\n",
       "      <td>MELBOURNE</td>\n",
       "      <td>3000</td>\n",
       "      <td>[]</td>\n",
       "      <td>https://www.domain.com.au/car-park-228-la-trob...</td>\n",
       "    </tr>\n",
       "    <tr>\n",
       "      <th>625</th>\n",
       "      <td>435.0</td>\n",
       "      <td>NaN</td>\n",
       "      <td>1</td>\n",
       "      <td>0</td>\n",
       "      <td>Studio</td>\n",
       "      <td>7/340 Beaconsfield Parade</td>\n",
       "      <td>ST KILDA WEST</td>\n",
       "      <td>3182</td>\n",
       "      <td>['Split Cooling', 'Split Heating', 'Kitchen', ...</td>\n",
       "      <td>https://www.domain.com.au/7-340-beaconsfield-p...</td>\n",
       "    </tr>\n",
       "    <tr>\n",
       "      <th>701</th>\n",
       "      <td>535.0</td>\n",
       "      <td>NaN</td>\n",
       "      <td>1</td>\n",
       "      <td>0</td>\n",
       "      <td>Apartment / Unit / Flat</td>\n",
       "      <td>202/12 Caulfield Blvd</td>\n",
       "      <td>CAULFIELD NORTH</td>\n",
       "      <td>3161</td>\n",
       "      <td>['In ground pool', 'In ground spa', 'Split sys...</td>\n",
       "      <td>https://www.domain.com.au/202-12-caulfield-blv...</td>\n",
       "    </tr>\n",
       "    <tr>\n",
       "      <th>757</th>\n",
       "      <td>250.0</td>\n",
       "      <td>NaN</td>\n",
       "      <td>1</td>\n",
       "      <td>0</td>\n",
       "      <td>Studio</td>\n",
       "      <td>24/677 Park Street</td>\n",
       "      <td>BRUNSWICK</td>\n",
       "      <td>3056</td>\n",
       "      <td>[]</td>\n",
       "      <td>https://www.domain.com.au/24-677-park-street-b...</td>\n",
       "    </tr>\n",
       "    <tr>\n",
       "      <th>802</th>\n",
       "      <td>350.0</td>\n",
       "      <td>NaN</td>\n",
       "      <td>1</td>\n",
       "      <td>1</td>\n",
       "      <td>Studio</td>\n",
       "      <td>2/631 Punt Road</td>\n",
       "      <td>SOUTH YARRA</td>\n",
       "      <td>3141</td>\n",
       "      <td>[]</td>\n",
       "      <td>https://www.domain.com.au/2-631-punt-road-sout...</td>\n",
       "    </tr>\n",
       "    <tr>\n",
       "      <th>905</th>\n",
       "      <td>380.0</td>\n",
       "      <td>NaN</td>\n",
       "      <td>1</td>\n",
       "      <td>0</td>\n",
       "      <td>Studio</td>\n",
       "      <td>10/1 Lawson Grove</td>\n",
       "      <td>SOUTH YARRA</td>\n",
       "      <td>3141</td>\n",
       "      <td>[]</td>\n",
       "      <td>https://www.domain.com.au/10-1-lawson-grove-so...</td>\n",
       "    </tr>\n",
       "  </tbody>\n",
       "</table>\n",
       "</div>"
      ],
      "text/plain": [
       "     price (AUD per week)  bedrooms  bathrooms  parkings  \\\n",
       "142                 450.0       NaN          1         0   \n",
       "226                 230.0       NaN          1         0   \n",
       "462                 615.0       NaN          1         0   \n",
       "506                  75.0       NaN          1         1   \n",
       "625                 435.0       NaN          1         0   \n",
       "701                 535.0       NaN          1         0   \n",
       "757                 250.0       NaN          1         0   \n",
       "802                 350.0       NaN          1         1   \n",
       "905                 380.0       NaN          1         0   \n",
       "\n",
       "               property type                     address           suburb  \\\n",
       "142                   Studio     1403/325 Collins Street        MELBOURNE   \n",
       "226                   Studio      109/32 St Edmonds Road          PRAHRAN   \n",
       "462  Apartment / Unit / Flat  L204/8 Caulfield Boulevard  CAULFIELD NORTH   \n",
       "506                Car space    Car Park/228 La Trobe St        MELBOURNE   \n",
       "625                   Studio   7/340 Beaconsfield Parade    ST KILDA WEST   \n",
       "701  Apartment / Unit / Flat       202/12 Caulfield Blvd  CAULFIELD NORTH   \n",
       "757                   Studio          24/677 Park Street        BRUNSWICK   \n",
       "802                   Studio             2/631 Punt Road      SOUTH YARRA   \n",
       "905                   Studio           10/1 Lawson Grove      SOUTH YARRA   \n",
       "\n",
       "     postcode                                additional features  \\\n",
       "142      3000                                      ['Furnished']   \n",
       "226      3181                                                 []   \n",
       "462      3161  ['Intercom', 'In ground pool', 'Balcony', 'Out...   \n",
       "506      3000                                                 []   \n",
       "625      3182  ['Split Cooling', 'Split Heating', 'Kitchen', ...   \n",
       "701      3161  ['In ground pool', 'In ground spa', 'Split sys...   \n",
       "757      3056                                                 []   \n",
       "802      3141                                                 []   \n",
       "905      3141                                                 []   \n",
       "\n",
       "                                          property url  \n",
       "142  https://www.domain.com.au/1403-325-collins-str...  \n",
       "226  https://www.domain.com.au/109-32-st-edmonds-ro...  \n",
       "462  https://www.domain.com.au/l204-8-caulfield-bou...  \n",
       "506  https://www.domain.com.au/car-park-228-la-trob...  \n",
       "625  https://www.domain.com.au/7-340-beaconsfield-p...  \n",
       "701  https://www.domain.com.au/202-12-caulfield-blv...  \n",
       "757  https://www.domain.com.au/24-677-park-street-b...  \n",
       "802  https://www.domain.com.au/2-631-punt-road-sout...  \n",
       "905  https://www.domain.com.au/10-1-lawson-grove-so...  "
      ]
     },
     "execution_count": 21,
     "metadata": {},
     "output_type": "execute_result"
    }
   ],
   "source": [
    "# Inspect rows with any NaN values\n",
    "property_df[property_df.isna().any(axis=1)]"
   ]
  },
  {
   "cell_type": "markdown",
   "metadata": {},
   "source": [
    "We can see that most missing values occur in the number of bedrooms for studio room or invalid property type such as car space."
   ]
  },
  {
   "cell_type": "markdown",
   "metadata": {},
   "source": [
    "We will look at what property type is included in our dataset."
   ]
  },
  {
   "cell_type": "code",
   "execution_count": 17,
   "metadata": {},
   "outputs": [
    {
     "name": "stdout",
     "output_type": "stream",
     "text": [
      "Unique property types: ['House' 'Apartment / Unit / Flat' 'Townhouse' 'Studio' 'Villa'\n",
      " 'Car space' 'Terrace']\n"
     ]
    }
   ],
   "source": [
    "print(\"Unique property types:\", property_df['property type'].unique())"
   ]
  },
  {
   "cell_type": "markdown",
   "metadata": {},
   "source": [
    "We will discard rows with type 'Car space' because this type is invalid in the scope of this project."
   ]
  },
  {
   "cell_type": "code",
   "execution_count": 25,
   "metadata": {},
   "outputs": [],
   "source": [
    "# Discard rows with type 'Car space'\n",
    "property_df = property_df[property_df['property type'] != 'Car space']"
   ]
  },
  {
   "cell_type": "markdown",
   "metadata": {},
   "source": [
    "Now we will fill in the missing values for bedrooms with the assumption that number of bedrooms for studio room is 1, otherwise we assume number of bedrooms equal number of bathrooms."
   ]
  },
  {
   "cell_type": "code",
   "execution_count": 26,
   "metadata": {},
   "outputs": [],
   "source": [
    "def fill_bedrooms(row):\n",
    "    if pd.isnull(row['bedrooms']):\n",
    "        if row['property type'] == 'Studio':    # assume number of bedrooms for studio is 1\n",
    "            return 1\n",
    "        else:\n",
    "            return row['bathrooms']     # for other properties assume bedrooms = bathrooms\n",
    "    return row['bedrooms']\n",
    "\n",
    "property_df['bedrooms'] = property_df.apply(fill_bedrooms, axis=1)"
   ]
  },
  {
   "cell_type": "code",
   "execution_count": 24,
   "metadata": {},
   "outputs": [
    {
     "data": {
      "text/plain": [
       "price (AUD per week)    0\n",
       "bedrooms                0\n",
       "bathrooms               0\n",
       "parkings                0\n",
       "property type           0\n",
       "address                 0\n",
       "suburb                  0\n",
       "postcode                0\n",
       "additional features     0\n",
       "property url            0\n",
       "dtype: int64"
      ]
     },
     "execution_count": 24,
     "metadata": {},
     "output_type": "execute_result"
    }
   ],
   "source": [
    "# Check the number of missing values after filling in\n",
    "property_df.isnull().sum()"
   ]
  },
  {
   "cell_type": "markdown",
   "metadata": {},
   "source": [
    "We confirm that there are no missing entries left."
   ]
  },
  {
   "cell_type": "markdown",
   "metadata": {},
   "source": [
    "> ### Descriptive statistics"
   ]
  },
  {
   "cell_type": "markdown",
   "metadata": {},
   "source": [
    "We will look at the descriptive statistics of number of bedrooms, bathrooms, parkings and rental price per bedroom to check if they are in reasonable ranges. Price per bedroom is chosen because it allows better interpretation."
   ]
  },
  {
   "cell_type": "code",
   "execution_count": 27,
   "metadata": {},
   "outputs": [],
   "source": [
    "# Compute price per bedroom\n",
    "property_df['price per bedroom'] = property_df['price (AUD per week)'] / property_df['bedrooms']"
   ]
  },
  {
   "cell_type": "code",
   "execution_count": 17,
   "metadata": {},
   "outputs": [
    {
     "data": {
      "text/html": [
       "<div>\n",
       "<style scoped>\n",
       "    .dataframe tbody tr th:only-of-type {\n",
       "        vertical-align: middle;\n",
       "    }\n",
       "\n",
       "    .dataframe tbody tr th {\n",
       "        vertical-align: top;\n",
       "    }\n",
       "\n",
       "    .dataframe thead th {\n",
       "        text-align: right;\n",
       "    }\n",
       "</style>\n",
       "<table border=\"1\" class=\"dataframe\">\n",
       "  <thead>\n",
       "    <tr style=\"text-align: right;\">\n",
       "      <th></th>\n",
       "      <th>price per bedroom</th>\n",
       "      <th>bedrooms</th>\n",
       "      <th>bathrooms</th>\n",
       "      <th>parkings</th>\n",
       "    </tr>\n",
       "  </thead>\n",
       "  <tbody>\n",
       "    <tr>\n",
       "      <th>count</th>\n",
       "      <td>988.000000</td>\n",
       "      <td>988.000000</td>\n",
       "      <td>988.000000</td>\n",
       "      <td>988.000000</td>\n",
       "    </tr>\n",
       "    <tr>\n",
       "      <th>mean</th>\n",
       "      <td>361.057018</td>\n",
       "      <td>2.152834</td>\n",
       "      <td>1.461538</td>\n",
       "      <td>1.069838</td>\n",
       "    </tr>\n",
       "    <tr>\n",
       "      <th>std</th>\n",
       "      <td>125.107332</td>\n",
       "      <td>0.954869</td>\n",
       "      <td>0.639417</td>\n",
       "      <td>0.756050</td>\n",
       "    </tr>\n",
       "    <tr>\n",
       "      <th>min</th>\n",
       "      <td>112.500000</td>\n",
       "      <td>1.000000</td>\n",
       "      <td>1.000000</td>\n",
       "      <td>0.000000</td>\n",
       "    </tr>\n",
       "    <tr>\n",
       "      <th>25%</th>\n",
       "      <td>275.000000</td>\n",
       "      <td>1.000000</td>\n",
       "      <td>1.000000</td>\n",
       "      <td>1.000000</td>\n",
       "    </tr>\n",
       "    <tr>\n",
       "      <th>50%</th>\n",
       "      <td>337.500000</td>\n",
       "      <td>2.000000</td>\n",
       "      <td>1.000000</td>\n",
       "      <td>1.000000</td>\n",
       "    </tr>\n",
       "    <tr>\n",
       "      <th>75%</th>\n",
       "      <td>430.000000</td>\n",
       "      <td>3.000000</td>\n",
       "      <td>2.000000</td>\n",
       "      <td>1.000000</td>\n",
       "    </tr>\n",
       "    <tr>\n",
       "      <th>max</th>\n",
       "      <td>1100.000000</td>\n",
       "      <td>6.000000</td>\n",
       "      <td>4.000000</td>\n",
       "      <td>6.000000</td>\n",
       "    </tr>\n",
       "  </tbody>\n",
       "</table>\n",
       "</div>"
      ],
      "text/plain": [
       "       price per bedroom    bedrooms   bathrooms    parkings\n",
       "count         988.000000  988.000000  988.000000  988.000000\n",
       "mean          361.057018    2.152834    1.461538    1.069838\n",
       "std           125.107332    0.954869    0.639417    0.756050\n",
       "min           112.500000    1.000000    1.000000    0.000000\n",
       "25%           275.000000    1.000000    1.000000    1.000000\n",
       "50%           337.500000    2.000000    1.000000    1.000000\n",
       "75%           430.000000    3.000000    2.000000    1.000000\n",
       "max          1100.000000    6.000000    4.000000    6.000000"
      ]
     },
     "execution_count": 17,
     "metadata": {},
     "output_type": "execute_result"
    }
   ],
   "source": [
    "property_df[['price per bedroom', 'bedrooms', 'bathrooms', 'parkings']].describe()"
   ]
  },
  {
   "cell_type": "markdown",
   "metadata": {},
   "source": [
    "Overall we can see that the range of number of bedrooms, bathrooms and parkings is reasonable. Some properties have very high price per bedroom however these could still be possible in more expensive suburbs. Therefore we will still keep these properties and later on classify them as 'Very High' for the classification task."
   ]
  },
  {
   "cell_type": "code",
   "execution_count": 28,
   "metadata": {},
   "outputs": [],
   "source": [
    "# Save the final df\n",
    "property_df.to_csv('../data/raw/preprocessed properties.csv', index=False)"
   ]
  }
 ],
 "metadata": {
  "kernelspec": {
   "display_name": "Python 3",
   "language": "python",
   "name": "python3"
  },
  "language_info": {
   "codemirror_mode": {
    "name": "ipython",
    "version": 3
   },
   "file_extension": ".py",
   "mimetype": "text/x-python",
   "name": "python",
   "nbconvert_exporter": "python",
   "pygments_lexer": "ipython3",
   "version": "3.10.12"
  }
 },
 "nbformat": 4,
 "nbformat_minor": 2
}
