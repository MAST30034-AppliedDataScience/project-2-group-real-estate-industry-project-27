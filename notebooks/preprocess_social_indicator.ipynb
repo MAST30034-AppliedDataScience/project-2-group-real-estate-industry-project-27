{
 "cells": [
  {
   "cell_type": "code",
   "execution_count": 7,
   "metadata": {},
   "outputs": [],
   "source": [
    "%run ../scripts/social_indicator_downloader.py"
   ]
  },
  {
   "cell_type": "code",
   "execution_count": 5,
   "metadata": {},
   "outputs": [],
   "source": [
    "import pandas as pd\n",
    "import re"
   ]
  },
  {
   "cell_type": "code",
   "execution_count": 10,
   "metadata": {},
   "outputs": [],
   "source": [
    "indicator_df = pd.read_csv('../data/landing/social_indicator.csv')"
   ]
  },
  {
   "cell_type": "code",
   "execution_count": 11,
   "metadata": {},
   "outputs": [
    {
     "name": "stdout",
     "output_type": "stream",
     "text": [
      "    indicator   type            topic                        description  \\\n",
      "0          18  Other           Health                  Smoking behaviour   \n",
      "1          18  Other           Health                  Smoking behaviour   \n",
      "2          18  Other           Health                  Smoking behaviour   \n",
      "3          18  Other           Health                  Smoking behaviour   \n",
      "4          18  Other           Health                  Smoking behaviour   \n",
      "..        ...    ...              ...                                ...   \n",
      "661         9  Other  Quality of life  Satisfaction with life as a whole   \n",
      "662         9  Other  Quality of life  Satisfaction with life as a whole   \n",
      "663         9  Other  Quality of life  Satisfaction with life as a whole   \n",
      "664         9  Other  Quality of life  Satisfaction with life as a whole   \n",
      "665         9  Other  Quality of life  Satisfaction with life as a whole   \n",
      "\n",
      "                                           response  year  \\\n",
      "0    Reported as smoke daliy or smoke occassionally  2022   \n",
      "1    Reported as smoke daliy or smoke occassionally  2022   \n",
      "2    Reported as smoke daliy or smoke occassionally  2022   \n",
      "3    Reported as smoke daliy or smoke occassionally  2022   \n",
      "4    Reported as smoke daliy or smoke occassionally  2022   \n",
      "..                                              ...   ...   \n",
      "661         Average satisfaction score (from 0-100)  2022   \n",
      "662         Average satisfaction score (from 0-100)  2022   \n",
      "663         Average satisfaction score (from 0-100)  2022   \n",
      "664         Average satisfaction score (from 0-100)  2022   \n",
      "665         Average satisfaction score (from 0-100)  2022   \n",
      "\n",
      "                               respondent_group  sample_size  result  \\\n",
      "0                                   35-44 years          238    10.9   \n",
      "1                                   45-54 years          121    15.4   \n",
      "2                             City of Melbourne         1488    14.1   \n",
      "3                                Docklands 3008          124    13.1   \n",
      "4                           East Melbourne 3002           90     3.8   \n",
      "..                                          ...          ...     ...   \n",
      "661                                 25-34 years          472    72.4   \n",
      "662                                      Female          896    71.8   \n",
      "663  North Melbourne 3051 / West Melbourne 3003          241    67.7   \n",
      "664                              Parkville 3052           96    71.3   \n",
      "665                South Wharf / Southbank 3006          169    75.0   \n",
      "\n",
      "       format      postcode  \n",
      "0    Per cent            []  \n",
      "1    Per cent            []  \n",
      "2    Per cent            []  \n",
      "3    Per cent        [3008]  \n",
      "4    Per cent        [3002]  \n",
      "..        ...           ...  \n",
      "661   Average            []  \n",
      "662   Average            []  \n",
      "663   Average  [3051, 3003]  \n",
      "664   Average        [3052]  \n",
      "665   Average        [3006]  \n",
      "\n",
      "[666 rows x 11 columns]\n"
     ]
    }
   ],
   "source": [
    "def get_postcodes(row):\n",
    "    # match postcodes in the row\n",
    "    postcodes = re.findall(r'\\d{4}', row)  \n",
    "    return postcodes\n",
    "\n",
    "\n",
    "indicator_df['postcode'] = indicator_df['respondent_group'].apply(lambda x: get_postcodes(x))"
   ]
  },
  {
   "cell_type": "code",
   "execution_count": 12,
   "metadata": {},
   "outputs": [],
   "source": [
    "# Ensure each row only have one postcode\n",
    "indicator_df = indicator_df.explode('postcode')"
   ]
  },
  {
   "cell_type": "code",
   "execution_count": 15,
   "metadata": {},
   "outputs": [],
   "source": [
    "indicator_df = indicator_df.dropna(subset=['postcode'])"
   ]
  },
  {
   "cell_type": "code",
   "execution_count": 18,
   "metadata": {},
   "outputs": [],
   "source": [
    "indicator_df.to_csv('../data/raw/social_indicator_w_postcode.csv', index=False)"
   ]
  }
 ],
 "metadata": {
  "kernelspec": {
   "display_name": "base",
   "language": "python",
   "name": "python3"
  },
  "language_info": {
   "codemirror_mode": {
    "name": "ipython",
    "version": 3
   },
   "file_extension": ".py",
   "mimetype": "text/x-python",
   "name": "python",
   "nbconvert_exporter": "python",
   "pygments_lexer": "ipython3",
   "version": "3.11.7"
  }
 },
 "nbformat": 4,
 "nbformat_minor": 2
}
