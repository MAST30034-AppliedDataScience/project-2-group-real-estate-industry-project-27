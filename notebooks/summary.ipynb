{
 "cells": [
  {
   "cell_type": "markdown",
   "metadata": {},
   "source": []
  },
  {
   "cell_type": "markdown",
   "metadata": {},
   "source": [
    "# Question1: most important features for predicting rental prices"
   ]
  },
  {
   "cell_type": "code",
   "execution_count": 2,
   "metadata": {},
   "outputs": [],
   "source": [
    "##In our classification model, the four most important features for predicting rental prices are as follows:\n",
    "\n",
    "\n",
    "## 1. Bedrooms: The number of bedrooms is a significant determinant of rental prices, as it directly correlates with the capacity and comfort of the living space. \n",
    "# Properties with more bedrooms typically cater to larger households, making them more desirable and, consequently, commanding higher rental rates.\n",
    "\n",
    "\n",
    "## 2. Postcode: The postcode serves as an indicator of the property's location, which significantly influences rental values. \n",
    "# Areas with desirable postcodes often offer better access to amenities, transportation, and schools, \n",
    "# contributing to higher demand and increased rental prices.\n",
    "\n",
    "\n",
    "## 3. Bathrooms: The quantity of bathrooms is another crucial factor impacting rental pricing.\n",
    "#  A higher number of bathrooms enhances convenience for tenants, \n",
    "# especially in larger households, and is often seen as a desirable feature that can justify a premium in rental costs.\n",
    "\n",
    "\n",
    "## 4. Parking Spaces: The availability of parking spaces is a vital consideration in many regions, \n",
    "# particularly in urban settings where parking can be scarce. \n",
    "# Properties that offer designated parking tend to attract tenants who prioritize this convenience, \n",
    "# thereby increasing the potential rental value."
   ]
  }
 ],
 "metadata": {
  "kernelspec": {
   "display_name": "base",
   "language": "python",
   "name": "python3"
  },
  "language_info": {
   "codemirror_mode": {
    "name": "ipython",
    "version": 3
   },
   "file_extension": ".py",
   "mimetype": "text/x-python",
   "name": "python",
   "nbconvert_exporter": "python",
   "pygments_lexer": "ipython3",
   "version": "3.11.5"
  }
 },
 "nbformat": 4,
 "nbformat_minor": 2
}
