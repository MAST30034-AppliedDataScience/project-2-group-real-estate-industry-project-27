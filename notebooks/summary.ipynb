{
 "cells": [
  {
   "cell_type": "markdown",
   "metadata": {},
   "source": [
    "### Question1: most important features for predicting rental prices"
   ]
  },
  {
   "cell_type": "markdown",
   "metadata": {},
   "source": [
    "In our classification model, the four most important features for predicting rental prices are as follows:\n",
    "\n",
    "\n",
    "1. Bedrooms: The number of bedrooms is a significant determinant of rental prices, as it directly correlates with the capacity and comfort of the living space. \n",
    "Properties with more bedrooms typically cater to larger households, making them more desirable and, consequently, commanding higher rental rates.\n",
    "\n",
    "\n",
    "2. Postcode: The postcode serves as an indicator of the property's location, which significantly influences rental values. \n",
    "Areas with desirable postcodes often offer better access to amenities, transportation, and schools, \n",
    "contributing to higher demand and increased rental prices.\n",
    "\n",
    "\n",
    "3. Bathrooms: The quantity of bathrooms is another crucial factor impacting rental pricing.\n",
    "A higher number of bathrooms enhances convenience for tenants, \n",
    "especially in larger households, and is often seen as a desirable feature that can justify a premium in rental costs.\n",
    "\n",
    "\n",
    "4. Parking Spaces: The availability of parking spaces is a vital consideration in many regions, \n",
    "particularly in urban settings where parking can be scarce. \n",
    "Properties that offer designated parking tend to attract tenants who prioritize this convenience, \n",
    "thereby increasing the potential rental value."
   ]
  },
  {
   "cell_type": "markdown",
   "metadata": {},
   "source": [
    "By pearson correlation, the most significant features for predicting rental prices are bedrooms numbers and bathroom numbers.\\\n",
    "There is no significant correlation between distance to the closest train station and rental prices"
   ]
  },
  {
   "cell_type": "markdown",
   "metadata": {},
   "source": [
    "<img src=\"../plots/pearson_corr.png\" alt=\"pearson\" />"
   ]
  },
  {
   "cell_type": "markdown",
   "metadata": {},
   "source": [
    "With Spearman's correlation, bedroom number is still the most significant.\\\n",
    "The correlation is almost zero between distance to the closest train station and rental price."
   ]
  },
  {
   "cell_type": "markdown",
   "metadata": {},
   "source": [
    "<img src=\"../plots/spearmans_corr.png\" alt=\"spearsmans\" />"
   ]
  },
  {
   "cell_type": "markdown",
   "metadata": {},
   "source": [
    "By using Anova, there are sufficent evidences to the effect of suburb and property type on rental price.\n",
    "Suburb have a 0.000172 p-vlaue, and property type have the p-value equal to 1.878596e-41."
   ]
  },
  {
   "cell_type": "markdown",
   "metadata": {},
   "source": [
    "### Question2: top 10 suburbs with the highest predicted growth rate"
   ]
  },
  {
   "cell_type": "markdown",
   "metadata": {},
   "source": [
    "**Top 10 suburbs with highest predicted growth rate for all properties**\n",
    "1. Caulfield:&nbsp;0.605755\n",
    "2. CBD-St Kilda Rd:&nbsp;0.456993\n",
    "3. Richmond-Burnley:&nbsp;0.259125\n",
    "4. Carlton-Parkville:&nbsp;0.221304\n",
    "5. Thomastown-Lalor:&nbsp;0.216575\n",
    "6. Malvern East:&nbsp;0.215734\n",
    "7. Hawthorn:&nbsp;0.211035\n",
    "8. Clayton:&nbsp;0.208304\n",
    "9. East St Kilda:&nbsp;0.205950\n",
    "10. Springvale:&nbsp;0.203281"
   ]
  }
 ],
 "metadata": {
  "kernelspec": {
   "display_name": "base",
   "language": "python",
   "name": "python3"
  },
  "language_info": {
   "codemirror_mode": {
    "name": "ipython",
    "version": 3
   },
   "file_extension": ".py",
   "mimetype": "text/x-python",
   "name": "python",
   "nbconvert_exporter": "python",
   "pygments_lexer": "ipython3",
   "version": "3.11.7"
  }
 },
 "nbformat": 4,
 "nbformat_minor": 2
}
